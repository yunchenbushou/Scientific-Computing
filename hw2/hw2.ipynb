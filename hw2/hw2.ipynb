{
 "cells": [
  {
   "cell_type": "code",
   "execution_count": 8,
   "metadata": {},
   "outputs": [],
   "source": [
    "import numpy as np\n",
    "import scipy\n",
    "import scipy.linalg"
   ]
  },
  {
   "cell_type": "markdown",
   "metadata": {},
   "source": [
    "![/home/zhuyekun/data/Scientific-Computing/hw1/pro3.JPG](./1.JPG)"
   ]
  },
  {
   "cell_type": "markdown",
   "metadata": {},
   "source": [
    "![/home/zhuyekun/data/Scientific-Computing/hw1/pro3.JPG](./2.JPG)"
   ]
  },
  {
   "cell_type": "markdown",
   "metadata": {},
   "source": [
    "![/home/zhuyekun/data/Scientific-Computing/hw1/pro3.JPG](./3.JPG)"
   ]
  },
  {
   "cell_type": "markdown",
   "metadata": {},
   "source": [
    "# T1 \n",
    "Computer problem (in C or C++): Using Gaussian elimination to achieve the LU decomposition with and without a column pivoting; Using the two LU decomposition algorithm to solve linear systems in which the coefficient matrix is (1) general nonsingular matrix; (2) positive definite matrix; (3) diagonally dominant matrix. Compare the numerical accuracy for the two algorithms. The size of the matrices should be greater than 1000."
   ]
  },
  {
   "cell_type": "code",
   "execution_count": 9,
   "metadata": {},
   "outputs": [],
   "source": [
    "def Q_i(Q_min, i, j, k):\n",
    "    if i < k or j < k:\n",
    "        return float(i == j)\n",
    "    else:\n",
    "        return Q_min[i-k][j-k]\n",
    "\n",
    "def QR_householder(A):\n",
    "    n = A.shape[0]\n",
    "\n",
    "    # Set R equal to A, and create Q as a zero matrix of the same size\n",
    "    R = A.copy()\n",
    "    Q = np.zeros((n,n))\n",
    "\n",
    "    # The Householder procedure\n",
    "    for k in range(n-1):\n",
    "        I = np.eye(n)\n",
    "        x = R[k:,k]\n",
    "        e = I[k:,k]\n",
    "        alpha = np.sign(x[0]) * np.linalg.norm(x)\n",
    "\n",
    "        # Using anonymous functions, we create u and v\n",
    "        u = np.array(list(map(lambda p,q: p + alpha * q, x, e)))\n",
    "        # print(u)\n",
    "        norm_u = np.linalg.norm(u)\n",
    "        v = np.array(list(map(lambda p: p/norm_u, u)))\n",
    "\n",
    "        # Create the Q minor matrix\n",
    "        Q_min = np.array([ [float(i==j) - 2.0 * v[i] * v[j] for i in range(n-k)] for j in range(n-k) ])\n",
    "\n",
    "        # \"Pad out\" the Q minor matrix with elements from the identity\n",
    "        Q_t = np.array([[ Q_i(Q_min,i,j,k) for i in range(n)] for j in range(n)])\n",
    "\n",
    "        if k == 0:\n",
    "            Q = Q_t\n",
    "            R = Q_t@A\n",
    "        else:\n",
    "            Q = Q_t@Q\n",
    "            R = Q_t@R\n",
    "\n",
    "    # Since Q is defined as the product of transposes of Q_t,\n",
    "    # we need to take the transpose upon returning it\n",
    "    return Q.T, R"
   ]
  },
  {
   "cell_type": "code",
   "execution_count": 10,
   "metadata": {},
   "outputs": [],
   "source": [
    "def QR_Household_column_pivot(A_x):\n",
    "    A = A_x\n",
    "    A_star = A_x\n",
    "    Q = np.eye(A.shape[0])\n",
    "    R = np.zeros((A.shape[0],A.shape[1]))\n",
    "    P = np.eye(A.shape[0])\n",
    "    for k in range(A.shape[0]):\n",
    "        argmax_k = np.argmax(np.abs(A[k:,k]))\n",
    "        P_k = np.eye(A.shape[0])\n",
    "        P_k[[k,argmax_k+k],:] = P_k[[argmax_k+k,k],:] \n",
    "        A = P_k@A\n",
    "        a_k = - np.sign(A[k][k])*np.sqrt(np.sum(A[k:,k]**2))\n",
    "        v_k = np.reshape(np.concatenate((np.zeros((k)),A[k:,k])),(np.shape(A)[0],1)) - a_k * np.reshape(np.concatenate((np.zeros((k)),np.ones((1)),np.zeros((np.shape(A)[0]-1-k)))),(np.shape(A)[0],1))\n",
    "        beta_k = np.transpose(v_k)@v_k\n",
    "        if beta_k == 0:\n",
    "            continue\n",
    "        for j in range(k,A.shape[1]):\n",
    "            gamma_j = np.transpose(v_k)@A[:,j]\n",
    "            A[:,j] = A[:,j] - np.reshape((2*gamma_j/beta_k)*v_k,np.shape(A)[0])\n",
    "        H = np.eye(A.shape[0]) - 2 / beta_k * v_k@np.transpose(v_k)\n",
    "        A_star = P_k@A_star\n",
    "        A_star = H@A_star\n",
    "        Q = Q@np.transpose(P_k)\n",
    "        Q = Q@np.transpose(H)\n",
    "\n",
    "    return Q , A"
   ]
  },
  {
   "cell_type": "markdown",
   "metadata": {},
   "source": [
    "# 验证"
   ]
  },
  {
   "cell_type": "code",
   "execution_count": 11,
   "metadata": {},
   "outputs": [],
   "source": [
    "A = np.array([[12, -51, 4], [6, 167, -68], [-4, 24, -41]])\n",
    "Q, R = QR_householder(A)"
   ]
  },
  {
   "cell_type": "code",
   "execution_count": 14,
   "metadata": {},
   "outputs": [
    {
     "name": "stdout",
     "output_type": "stream",
     "text": [
      "Q,R分别为： [[-0.85714286  0.39428571  0.33142857]\n",
      " [-0.42857143 -0.90285714 -0.03428571]\n",
      " [ 0.28571429 -0.17142857  0.94285714]] [[-1.40000000e+01 -2.10000000e+01  1.40000000e+01]\n",
      " [-5.57673565e-16 -1.75000000e+02  7.00000000e+01]\n",
      " [-5.08994556e-16 -7.64989650e-16 -3.50000000e+01]]\n"
     ]
    }
   ],
   "source": [
    "print(\"Q,R分别为：\",Q,R)"
   ]
  },
  {
   "cell_type": "code",
   "execution_count": 15,
   "metadata": {},
   "outputs": [
    {
     "name": "stdout",
     "output_type": "stream",
     "text": [
      "Q,R与真实的Q,R对比为： [[ 2.22044605e-16 -1.66533454e-16 -5.55111512e-17]\n",
      " [ 5.55111512e-17  2.22044605e-16 -4.85722573e-17]\n",
      " [-5.55111512e-17 -2.77555756e-17  0.00000000e+00]] [[ 1.77635684e-15  0.00000000e+00 -3.55271368e-15]\n",
      " [-5.57673565e-16  5.68434189e-14 -2.84217094e-14]\n",
      " [-5.08994556e-16 -7.64989650e-16  0.00000000e+00]]\n"
     ]
    }
   ],
   "source": [
    "q,r = scipy.linalg.qr(A)\n",
    "print(\"Q,R与真实的Q,R对比为：\",Q-q,R-r)"
   ]
  }
 ],
 "metadata": {
  "interpreter": {
   "hash": "cbacef0d045109993dbdc21cb4dc2e313004da24f43ba26165f16f89eaf9429b"
  },
  "kernelspec": {
   "display_name": "Python 3.8.10 64-bit ('tensorflow': conda)",
   "language": "python",
   "name": "python3"
  },
  "language_info": {
   "codemirror_mode": {
    "name": "ipython",
    "version": 3
   },
   "file_extension": ".py",
   "mimetype": "text/x-python",
   "name": "python",
   "nbconvert_exporter": "python",
   "pygments_lexer": "ipython3",
   "version": "3.8.10"
  },
  "orig_nbformat": 4
 },
 "nbformat": 4,
 "nbformat_minor": 2
}
