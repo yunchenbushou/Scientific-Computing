{
 "cells": [
  {
   "cell_type": "code",
   "execution_count": 27,
   "metadata": {},
   "outputs": [],
   "source": [
    "import numpy as np\n",
    "import scipy\n",
    "import scipy.linalg"
   ]
  },
  {
   "cell_type": "markdown",
   "metadata": {},
   "source": [
    "# 3.30\n",
    "\n",
    "To preserve the norm, we must have $\\alpha=\\pm\\|a\\|_{2}$, and the sign should be chosen to avoid cancellation (i.e., $\\alpha=-\\operatorname{sign}\\left(a_{1}\\right)\\|a\\|_{2}$ )."
   ]
  },
  {
   "cell_type": "markdown",
   "metadata": {},
   "source": [
    "# 3.33\n",
    "\n",
    "## (a)\n",
    "需要$2n^2、3$的额外计算量。\n",
    "## (b)\n",
    "需要$2n^2(m-n/3)$的额外计算量。\n",
    "\n"
   ]
  },
  {
   "cell_type": "markdown",
   "metadata": {},
   "source": [
    "# 3.44\n",
    "\n",
    "SVD分解，schmidt正交化"
   ]
  },
  {
   "cell_type": "markdown",
   "metadata": {},
   "source": [
    "# 3.45\n",
    "(a)>(b)"
   ]
  },
  {
   "cell_type": "markdown",
   "metadata": {},
   "source": [
    "# 3.3\n",
    "\n",
    "$$A =\\left[\\begin{array}{ll}\n",
    "1 & e \\\\\n",
    "2 & e^2\\\\\n",
    "3 & e^3\n",
    "\\end{array}\\right]$$\n",
    "\n",
    "$$x = (A^TA)^{-1}A^Tb=[1.59419483 0.00876201]$$"
   ]
  },
  {
   "cell_type": "code",
   "execution_count": 28,
   "metadata": {},
   "outputs": [
    {
     "name": "stdout",
     "output_type": "stream",
     "text": [
      "[1.59419483 0.00876201]\n"
     ]
    }
   ],
   "source": [
    "A = np.array([[1,np.exp(1)],[2,np.exp(2)],[3,np.exp(3)]])\n",
    "b = np.array([2,3,5])\n",
    "x = np.linalg.inv(A.T@A)@A.T@b\n",
    "print(x)"
   ]
  },
  {
   "cell_type": "markdown",
   "metadata": {},
   "source": [
    "# 3.14\n",
    "\n",
    "$$\n",
    "H=I-2 \\frac{\\boldsymbol{v} v^{T}}{\\boldsymbol{v}^{T} \\boldsymbol{v}}\n",
    "$$\n",
    "\n",
    "$$\n",
    "H^T = I-2 \\frac{\\boldsymbol{v} v^{T}}{\\boldsymbol{v}^{T} \\boldsymbol{v}} = H\n",
    "$$\n",
    "\n",
    "$$\n",
    "H^T H = (I-2 \\frac{\\boldsymbol{v} v^{T}}{\\boldsymbol{v}^{T} \\boldsymbol{v}})(I-2 \\frac{\\boldsymbol{v} v^{T}}{\\boldsymbol{v}^{T} \\boldsymbol{v}}) = I - 4 \\frac{\\boldsymbol{v} v^{T}}{\\boldsymbol{v}^{T} \\boldsymbol{v}} + 4 \\frac{\\boldsymbol{v} (v^{T}\\boldsymbol{v}) v^{T}}{(\\boldsymbol{v}^{T} \\boldsymbol{v})^2}=I\n",
    "$$\n",
    "\n",
    "H对称正定。"
   ]
  },
  {
   "cell_type": "code",
   "execution_count": 29,
   "metadata": {},
   "outputs": [],
   "source": [
    "def Q_i(Q_min, i, j, k):\n",
    "    if i < k or j < k:\n",
    "        return float(i == j)\n",
    "    else:\n",
    "        return Q_min[i-k][j-k]\n",
    "\n",
    "def householder(A):\n",
    "    \"\"\"Performs a Householder Reflections based QR Decomposition of the                                               \n",
    "    matrix A. The function returns Q, an orthogonal matrix and R, an                                                  \n",
    "    upper triangular matrix such that A = QR.\"\"\"\n",
    "    n = A.shape[0]\n",
    "\n",
    "    # Set R equal to A, and create Q as a zero matrix of the same size\n",
    "    R = A.copy()\n",
    "    Q = np.zeros((n,n))\n",
    "\n",
    "    # The Householder procedure\n",
    "    for k in range(n-1):\n",
    "        I = np.eye(n)\n",
    "        x = R[k:,k]\n",
    "        e = I[k:,k]\n",
    "        alpha = -np.sign(x[0]) * np.linalg.norm(x)\n",
    "\n",
    "        # Using anonymous functions, we create u and v\n",
    "        u = np.array(list(map(lambda p,q: p + alpha * q, x, e)))\n",
    "        print(u)\n",
    "        norm_u = np.linalg.norm(u)\n",
    "        v = np.array(list(map(lambda p: p/norm_u, u)))\n",
    "\n",
    "        # Create the Q minor matrix\n",
    "        Q_min = np.array([ [float(i==j) - 2.0 * v[i] * v[j] for i in range(n-k)] for j in range(n-k) ])\n",
    "\n",
    "        # \"Pad out\" the Q minor matrix with elements from the identity\n",
    "        Q_t = np.array([[ Q_i(Q_min,i,j,k) for i in range(n)] for j in range(n)])\n",
    "\n",
    "        if k == 0:\n",
    "            Q = Q_t\n",
    "            R = Q_t@A\n",
    "        else:\n",
    "            Q = Q_t@Q\n",
    "            R = Q_t@R\n",
    "\n",
    "    # Since Q is defined as the product of transposes of Q_t,\n",
    "    # we need to take the transpose upon returning it\n",
    "    return Q.T, R"
   ]
  },
  {
   "cell_type": "code",
   "execution_count": 30,
   "metadata": {},
   "outputs": [
    {
     "name": "stdout",
     "output_type": "stream",
     "text": [
      "[-2.  6. -4.]\n",
      "[126. 168.]\n"
     ]
    }
   ],
   "source": [
    "A = np.array([[12, -51, 4], [6, 167, -68], [-4, 24, -41]])\n",
    "Q, R = householder(A)"
   ]
  },
  {
   "cell_type": "code",
   "execution_count": 31,
   "metadata": {},
   "outputs": [
    {
     "data": {
      "text/plain": [
       "(array([[ 0.85714286,  0.39428571, -0.33142857],\n",
       "        [ 0.42857143, -0.90285714,  0.03428571],\n",
       "        [-0.28571429, -0.17142857, -0.94285714]]),\n",
       " array([[ 1.40000000e+01,  2.10000000e+01, -1.40000000e+01],\n",
       "        [-5.50670620e-16, -1.75000000e+02,  7.00000000e+01],\n",
       "        [ 3.01980663e-16, -2.84217094e-14,  3.50000000e+01]]))"
      ]
     },
     "execution_count": 31,
     "metadata": {},
     "output_type": "execute_result"
    }
   ],
   "source": [
    "Q,R"
   ]
  },
  {
   "cell_type": "code",
   "execution_count": 32,
   "metadata": {},
   "outputs": [
    {
     "data": {
      "text/plain": [
       "(array([[-0.85714286,  0.39428571,  0.33142857],\n",
       "        [-0.42857143, -0.90285714, -0.03428571],\n",
       "        [ 0.28571429, -0.17142857,  0.94285714]]),\n",
       " array([[ -14.,  -21.,   14.],\n",
       "        [   0., -175.,   70.],\n",
       "        [   0.,    0.,  -35.]]))"
      ]
     },
     "execution_count": 32,
     "metadata": {},
     "output_type": "execute_result"
    }
   ],
   "source": [
    "scipy.linalg.qr(A)"
   ]
  },
  {
   "cell_type": "code",
   "execution_count": null,
   "metadata": {},
   "outputs": [],
   "source": []
  }
 ],
 "metadata": {
  "interpreter": {
   "hash": "cbacef0d045109993dbdc21cb4dc2e313004da24f43ba26165f16f89eaf9429b"
  },
  "kernelspec": {
   "display_name": "Python 3.8.10 64-bit ('tensorflow': conda)",
   "language": "python",
   "name": "python3"
  },
  "language_info": {
   "codemirror_mode": {
    "name": "ipython",
    "version": 3
   },
   "file_extension": ".py",
   "mimetype": "text/x-python",
   "name": "python",
   "nbconvert_exporter": "python",
   "pygments_lexer": "ipython3",
   "version": "3.8.10"
  },
  "orig_nbformat": 4
 },
 "nbformat": 4,
 "nbformat_minor": 2
}
