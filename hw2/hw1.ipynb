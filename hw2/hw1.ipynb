{
 "cells": [
  {
   "cell_type": "code",
   "execution_count": 3,
   "source": [
    "import numpy as np\n",
    "import matplotlib.pyplot as plt"
   ],
   "outputs": [],
   "metadata": {}
  },
  {
   "cell_type": "markdown",
   "source": [
    "# 2.48"
   ],
   "metadata": {}
  },
  {
   "cell_type": "code",
   "execution_count": 58,
   "source": [
    "def LU_Decomposition(A):\n",
    "    N = A.shape[0]\n",
    "\n",
    "    L = np.eye(N)\n",
    "    U = np.zeros((N,N))\n",
    "    for i in range(N):\n",
    "        L[i:,i] = A[i:,i]/A[i,i]\n",
    "        # print(i,A[i,i])\n",
    "        U[i,i:] = A[i,i:]\n",
    "\n",
    "        A[i:,i:] = A[i:,i:] - L[i:,i][:,None]@U[i,i:][None,:]\n",
    "        # print(A,L[i:,i].reshape([-1,1]).shape,U[i,i:].shape)\n",
    "    return L,U\n"
   ],
   "outputs": [],
   "metadata": {}
  },
  {
   "cell_type": "code",
   "execution_count": 60,
   "source": [
    "A= np.array([[1,1,-1], [1,2,-2.],[-2,1,1]])\n",
    "L,U = LU_Decomposition(A)\n",
    "print(L,U)"
   ],
   "outputs": [
    {
     "output_type": "stream",
     "name": "stdout",
     "text": [
      "[[ 1.  0.  0.]\n",
      " [ 1.  1.  0.]\n",
      " [-2.  3.  1.]] [[ 1.  1. -1.]\n",
      " [ 0.  1. -1.]\n",
      " [ 0.  0.  2.]]\n"
     ]
    }
   ],
   "metadata": {}
  },
  {
   "cell_type": "code",
   "execution_count": null,
   "source": [],
   "outputs": [],
   "metadata": {}
  }
 ],
 "metadata": {
  "orig_nbformat": 4,
  "language_info": {
   "name": "python",
   "version": "3.8.10",
   "mimetype": "text/x-python",
   "codemirror_mode": {
    "name": "ipython",
    "version": 3
   },
   "pygments_lexer": "ipython3",
   "nbconvert_exporter": "python",
   "file_extension": ".py"
  },
  "kernelspec": {
   "name": "python3",
   "display_name": "Python 3.8.10 64-bit ('tensorflow': conda)"
  },
  "interpreter": {
   "hash": "c5aca946039d9aa65fad3c225560fb43eb8bb5dddc9636801a61d8026290804e"
  }
 },
 "nbformat": 4,
 "nbformat_minor": 2
}