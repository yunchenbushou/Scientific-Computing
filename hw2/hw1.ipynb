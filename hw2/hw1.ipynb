{
 "cells": [
  {
   "cell_type": "code",
   "execution_count": 2,
   "metadata": {},
   "outputs": [],
   "source": [
    "import numpy as np\n",
    "from scipy.linalg import lu\n",
    "import matplotlib.pyplot as plt"
   ]
  },
  {
   "cell_type": "markdown",
   "metadata": {},
   "source": [
    "# 2.45"
   ]
  },
  {
   "cell_type": "markdown",
   "metadata": {},
   "source": [
    "# 2.48\n",
    "$$A=LU$$\n",
    "\n",
    "where $\\boldsymbol{L}$ is unit lower triangular and $\\boldsymbol{U}$ is upper triangular. Given such a factorization, the linear system $A x=b$ can be written as $L U x=b$ and hence can be solved by first solving the lower triangular system $L y=b$ by forward-substitution, then the upper triangular system $U x=y$ by back-substitution."
   ]
  },
  {
   "cell_type": "markdown",
   "metadata": {},
   "source": [
    "# 2.49\n",
    "\n",
    "## (1)\n",
    "$$\n",
    "L P x=b\n",
    "$$\n",
    "where now $L$ really is lower triangular. To solve the linear system, we first solve the lower triangular system $\\boldsymbol{L} y=\\boldsymbol{P} \\boldsymbol{b}$ by forward-substitution, then $x = P^T y$\n",
    "\n",
    "## (2)\n",
    "$$\n",
    "P L x=b\n",
    "$$\n",
    "where now $L$ really is lower triangular. To solve the linear system, we solve the lower triangular system $\\boldsymbol{L} x=\\boldsymbol{P}^T \\boldsymbol{b}$ by forward-substitution."
   ]
  },
  {
   "cell_type": "markdown",
   "metadata": {},
   "source": [
    "## 2.51\n",
    "$ x = (1.5,1.5),y=(2,0)$\n",
    "$$ \\|x\\|_1=3>2=\\|y\\|_1$$\n",
    "$$\\|x\\|_{\\infty}=1.5<2=\\|y\\|_{\\infty}$$"
   ]
  },
  {
   "cell_type": "markdown",
   "metadata": {},
   "source": [
    "# 2.52\n",
    "\n",
    "$\\|A\\|_1$更容易计算"
   ]
  },
  {
   "cell_type": "markdown",
   "metadata": {},
   "source": [
    "# 2.53\n",
    "## (1)\n",
    "$cond(A)=\\|A\\|_1 \\|A^{-1}\\|_1 = 6 \\times 0.5 = 3$\n",
    "## (2)\n",
    "$cond(A)=\\|A\\|_{\\infty} \\|A^{-1}\\|_{\\infty} = 6\\times 0.5=3$"
   ]
  },
  {
   "cell_type": "markdown",
   "metadata": {},
   "source": [
    "# 2.61\n",
    "计算条件数可得\n",
    "(a)(d) well-conditioned\n",
    "(b)(c) ill-conditioned"
   ]
  },
  {
   "cell_type": "markdown",
   "metadata": {},
   "source": [
    "# 2.77\n",
    "A 的 cholesky分解为：\n",
    "$$\\left[\\begin{array}{ll}\n",
    "2 & 0 \\\\\n",
    "1 & 1\n",
    "\\end{array}\\right]$$"
   ]
  },
  {
   "cell_type": "code",
   "execution_count": 3,
   "metadata": {},
   "outputs": [
    {
     "data": {
      "text/plain": [
       "array([[2., 0.],\n",
       "       [1., 1.]])"
      ]
     },
     "execution_count": 3,
     "metadata": {},
     "output_type": "execute_result"
    }
   ],
   "source": [
    "A = np.array([[4,2],[2,2]])\n",
    "np.linalg.cholesky(A)"
   ]
  },
  {
   "cell_type": "markdown",
   "metadata": {},
   "source": [
    "# 2.10\n",
    "## (1)\n",
    "$$ P = P_n\\cdots P_2P_1$$\n",
    "$$ P^{-1} = (P_n\\cdots P_2P_1)^{-1} = P_1^{-1} P_2^{-1}\\cdots  P_n^{-1}=P_1P_2\\cdots P_n=P_1P_2\\cdots P_n=P_1^TP_2^T\\cdots P_n^T=(P_n\\cdots P_2P_1)^{T}=P^T$$\n",
    "## (2)\n",
    "$$ P A= P(M_{n-1} P_{n-1} \\cdots M_{1} P_{1})^{-1}U=P(P_1M_1^{-1}P_2\\cdots P_nM_n^{-1})U$$\n",
    "即证明\n",
    "$ P(P_1M_1^{-1}P_2\\cdots P_nM_n^{-1})$为下三角矩阵。\n",
    "$$\n",
    "    \\begin{aligned}\n",
    "        P(P_1M_1^{-1}P_2\\cdots P_nM_n^{-1}) & =P_n\\cdots P_2P_1 P_1M_1^{-1}P_2\\cdots P_nM_n^{-1},                               \\\\\n",
    "               & =P_n\\cdots P_2M_1^{-1}P_2\\cdots P_nM_n^{-1}              \\\\\n",
    "                   & =P_n\\cdots P_2(I+m_1e_1)P_2\\cdots P_nM_n^{-1} ,\n",
    "    \\end{aligned}\n",
    "$$\n",
    "由于$P_2(I+m_1e_1)P_2=I+m_1'e_1$(由于$P_2$只对第二行以及以后的行做变换,$m_1'$即为对应两个元素交换所得)，考虑$(I+m_1'e_1)(I+m_2e_2)=I+\\sum_{i=1}^2m_ie_i$,其也为下三角。\n",
    "\n",
    "长此以往，可得$P(P_1M_1^{-1}P_2\\cdots P_nM_n^{-1})$也为下三角矩阵。"
   ]
  },
  {
   "cell_type": "markdown",
   "metadata": {},
   "source": [
    "# 2.31\n",
    "- $\\|x\\|_A=(x^TAx)^{\\frac{1}{2}}=(x^TL L^Tx)=(y^Ty)=\\sum_i y_i^2>=0$ (A positive defined), And $\\|x\\|_A=0$ if and only if $y = x = 0$\n",
    "- $\\|\\alpha x\\|_A=(\\alpha^2 x^TAx)^{\\frac{1}{2}}=\\alpha (x^TAx)^{\\frac{1}{2}} = \\alpha \\|x\\|_A$\n",
    "- 只需证明$(x^TAy)^2<=x^TAxy^TAy$,令$A=U^T\\Lambda U,\\Lambda = diag(a_1,\\cdots,a_n)$,则$Ux=(x_1,\\cdots,x_n),Uy=(y_1,\\cdots,y_n)$, 于是上式子等于$(a_1x_1y_1,\\cdots,a_nx_ny_n)^2<=(a_1x_1^2+\\cdots)(a_1y_1^2+\\cdots)$, 而由柯西不等式，上式成立。"
   ]
  },
  {
   "cell_type": "markdown",
   "metadata": {},
   "source": [
    "# T1 \n",
    "Computer problem (in C or C++): Using Gaussian elimination to achieve the LU decomposition with and without a column pivoting; Using the two LU decomposition algorithm to solve linear systems in which the coefficient matrix is (1) general nonsingular matrix; (2) positive definite matrix; (3) diagonally dominant matrix. Compare the numerical accuracy for the two algorithms. The size of the matrices should be greater than 1000."
   ]
  },
  {
   "cell_type": "code",
   "execution_count": 4,
   "metadata": {},
   "outputs": [],
   "source": [
    "def pivot_matrix(M,j):\n",
    "\n",
    "    m = M.shape[0]\n",
    "                                                            \n",
    "    id_mat = np.eye(m)                         \n",
    "    row = max(range(j, m), key=lambda i: abs(M[i][j]))\n",
    "    # print(row)\n",
    "    if j != row:                                                                          \n",
    "        id_mat[[j,row],:]= id_mat[[row,j],:]\n",
    "    return id_mat, row\n",
    "    \n",
    "def LU_Decomposition(A,pivot = False):\n",
    "    N = A.shape[0]\n",
    "    A_copy = A.copy()\n",
    "\n",
    "    L = np.eye(N)\n",
    "    U = np.zeros((N,N))\n",
    "    P = np.eye(N)\n",
    "    for i in range(N):\n",
    "        if pivot:\n",
    "            tmp_P,row = pivot_matrix(A_copy,i)\n",
    "            P = tmp_P@P\n",
    "            A_copy = tmp_P@A_copy\n",
    "            L[[i,row],i-1] = L[[row,i],i-1]\n",
    "        L[i:,i] = A_copy[i:,i]/A_copy[i,i]\n",
    "        # print(i,A[i,i])\n",
    "        U[i,i:] = A_copy[i,i:]\n",
    "        A_copy[i:,i:] = A_copy[i:,i:] - L[i:,i][:,None]@U[i,i:][None,:]\n",
    "        # print(A,L[i:,i].reshape([-1,1]).shape,U[i,i:].shape)\n",
    "    if pivot:\n",
    "        return P,L,U\n",
    "    return L,U\n"
   ]
  },
  {
   "cell_type": "markdown",
   "metadata": {},
   "source": [
    "## (1)非奇异矩阵"
   ]
  },
  {
   "cell_type": "code",
   "execution_count": 31,
   "metadata": {},
   "outputs": [
    {
     "name": "stdout",
     "output_type": "stream",
     "text": [
      "A的特征值为0的个数为： 0\n"
     ]
    }
   ],
   "source": [
    "A = np.random.rand(1000,1000)\n",
    "b = np.random.rand(1000,1)\n",
    "v,w = np.linalg.eig(A)\n",
    "print(\"A的特征值为0的个数为：\",np.sum((v==0)))"
   ]
  },
  {
   "cell_type": "code",
   "execution_count": 32,
   "metadata": {},
   "outputs": [
    {
     "name": "stdout",
     "output_type": "stream",
     "text": [
      "LU分解的误差为： 2.9181106885262445e-10\n"
     ]
    }
   ],
   "source": [
    "L,U = LU_Decomposition(A)\n",
    "y = np.linalg.solve(L,b)\n",
    "x = np.linalg.solve(U,y)\n",
    "error = np.sum(x-np.linalg.inv(A)@b)\n",
    "\n",
    "print(\"LU分解的误差为：\",error)"
   ]
  },
  {
   "cell_type": "code",
   "execution_count": 33,
   "metadata": {},
   "outputs": [
    {
     "name": "stdout",
     "output_type": "stream",
     "text": [
      "PLU分解的误差为： 4.377166032789367e-10\n"
     ]
    }
   ],
   "source": [
    "P,L,U = LU_Decomposition(A,pivot=True)\n",
    "y = np.linalg.solve(L,P*b)\n",
    "x = np.linalg.solve(U,y)\n",
    "error = np.sum(x-np.linalg.inv(A)@b)\n",
    "\n",
    "print(\"PLU分解的误差为：\",error)"
   ]
  },
  {
   "cell_type": "markdown",
   "metadata": {},
   "source": [
    "## (2)正定矩阵"
   ]
  },
  {
   "cell_type": "code",
   "execution_count": 35,
   "metadata": {},
   "outputs": [
    {
     "name": "stdout",
     "output_type": "stream",
     "text": [
      "A的特征值小于等于0的个数为： 0\n"
     ]
    }
   ],
   "source": [
    "A = A.T@A\n",
    "print(\"A的特征值小于等于0的个数为：\",np.sum((v==0)))"
   ]
  },
  {
   "cell_type": "code",
   "execution_count": 37,
   "metadata": {},
   "outputs": [
    {
     "name": "stdout",
     "output_type": "stream",
     "text": [
      "LU分解的误差为： 1.8817684729818256e-11\n"
     ]
    }
   ],
   "source": [
    "L,U = LU_Decomposition(A)\n",
    "y = np.linalg.solve(L,b)\n",
    "x = np.linalg.solve(U,y)\n",
    "error = np.sum(x-np.linalg.inv(A)@b)\n",
    "\n",
    "print(\"LU分解的误差为：\",error)"
   ]
  },
  {
   "cell_type": "code",
   "execution_count": 39,
   "metadata": {},
   "outputs": [
    {
     "name": "stdout",
     "output_type": "stream",
     "text": [
      "PLU分解的误差为： 2.8226527094727377e-15\n"
     ]
    }
   ],
   "source": [
    "P,L,U = LU_Decomposition(A,pivot=True)\n",
    "y = np.linalg.solve(L,P*b)\n",
    "x = np.linalg.solve(U,y)\n",
    "error = np.sum(x-np.linalg.inv(A)@b)\n",
    "\n",
    "print(\"PLU分解的误差为：\",error)"
   ]
  },
  {
   "cell_type": "markdown",
   "metadata": {},
   "source": [
    "## (3)对角占优矩阵"
   ]
  },
  {
   "cell_type": "code",
   "execution_count": 40,
   "metadata": {},
   "outputs": [],
   "source": [
    "A = np.eye(1000)*5"
   ]
  },
  {
   "cell_type": "code",
   "execution_count": 41,
   "metadata": {},
   "outputs": [
    {
     "name": "stdout",
     "output_type": "stream",
     "text": [
      "LU分解的误差为： -5.794681141174651e-15\n"
     ]
    }
   ],
   "source": [
    "L,U = LU_Decomposition(A)\n",
    "y = np.linalg.solve(L,b)\n",
    "x = np.linalg.solve(U,y)\n",
    "error = np.sum(x-np.linalg.inv(A)@b)\n",
    "\n",
    "print(\"LU分解的误差为：\",error)"
   ]
  },
  {
   "cell_type": "code",
   "execution_count": 46,
   "metadata": {},
   "outputs": [
    {
     "name": "stdout",
     "output_type": "stream",
     "text": [
      "PLU分解的误差为： -8.692021711761977e-15\n"
     ]
    }
   ],
   "source": [
    "L,U = LU_Decomposition(A)\n",
    "y = np.linalg.solve(L,b)\n",
    "x = np.linalg.solve(U,y)\n",
    "error = np.sum(x-np.linalg.inv(A)@b)\n",
    "\n",
    "print(\"PLU分解的误差为：\",error)"
   ]
  }
 ],
 "metadata": {
  "interpreter": {
   "hash": "c5aca946039d9aa65fad3c225560fb43eb8bb5dddc9636801a61d8026290804e"
  },
  "kernelspec": {
   "display_name": "Python 3.8.10 64-bit ('tensorflow': conda)",
   "name": "python3"
  },
  "language_info": {
   "codemirror_mode": {
    "name": "ipython",
    "version": 3
   },
   "file_extension": ".py",
   "mimetype": "text/x-python",
   "name": "python",
   "nbconvert_exporter": "python",
   "pygments_lexer": "ipython3",
   "version": "3.8.10"
  },
  "orig_nbformat": 4
 },
 "nbformat": 4,
 "nbformat_minor": 2
}
