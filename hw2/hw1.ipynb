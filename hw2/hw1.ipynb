{
 "cells": [
  {
   "cell_type": "code",
   "execution_count": 11,
   "metadata": {},
   "outputs": [],
   "source": [
    "import numpy as np\n",
    "from scipy.linalg import lu\n",
    "import matplotlib.pyplot as plt"
   ]
  },
  {
   "cell_type": "markdown",
   "metadata": {},
   "source": [
    "# 2.45"
   ]
  },
  {
   "cell_type": "markdown",
   "metadata": {},
   "source": [
    "# 2.48\n",
    "$$A=LU$$\n",
    "\n",
    "where $\\boldsymbol{L}$ is unit lower triangular and $\\boldsymbol{U}$ is upper triangular. Given such a factorization, the linear system $A x=b$ can be written as $L U x=b$ and hence can be solved by first solving the lower triangular system $L y=b$ by forward-substitution, then the upper triangular system $U x=y$ by back-substitution."
   ]
  },
  {
   "cell_type": "markdown",
   "metadata": {},
   "source": [
    "# 2.49\n",
    "\n",
    "## (1)\n",
    "$$\n",
    "L P x=b\n",
    "$$\n",
    "where now $L$ really is lower triangular. To solve the linear system, we first solve the lower triangular system $\\boldsymbol{L} y=\\boldsymbol{P} \\boldsymbol{b}$ by forward-substitution, then $x = P^T y$\n",
    "\n",
    "## (2)\n",
    "$$\n",
    "P L x=b\n",
    "$$\n",
    "where now $L$ really is lower triangular. To solve the linear system, we solve the lower triangular system $\\boldsymbol{L} x=\\boldsymbol{P}^T \\boldsymbol{b}$ by forward-substitution."
   ]
  },
  {
   "cell_type": "markdown",
   "metadata": {},
   "source": [
    "## 2.51\n",
    "$ x = (1.5,1.5),y=(2,0)$\n",
    "$$ \\|x\\|_1=3>2=\\|y\\|_1$$\n",
    "$$\\|x\\|_{\\infty}=1.5<2=\\|y\\|_{\\infty}$$"
   ]
  },
  {
   "cell_type": "markdown",
   "metadata": {},
   "source": [
    "# 2.52\n",
    "\n",
    "$\\|A\\|_1$更容易计算"
   ]
  },
  {
   "cell_type": "markdown",
   "metadata": {},
   "source": [
    "# 2.53\n",
    "## (1)\n",
    "$cond(A)=\\|A\\|_1 \\|A^{-1}\\|_1 = 6 \\times 0.5 = 3$\n",
    "## (2)\n",
    "$cond(A)=\\|A\\|_{\\infty} \\|A^{-1}\\|_{\\infty} = 6\\times 0.5=3$"
   ]
  },
  {
   "cell_type": "markdown",
   "metadata": {},
   "source": [
    "# 2.61\n",
    "(a)(c) well-conditioned\n",
    "(b)(d) ill-conditioned"
   ]
  },
  {
   "cell_type": "markdown",
   "metadata": {},
   "source": [
    "# 2.77\n",
    "A 的 cholesky分解为：\n",
    "$$\\left[\\begin{array}{ll}\n",
    "2 & 0 \\\\\n",
    "1 & 1\n",
    "\\end{array}\\right]$$"
   ]
  },
  {
   "cell_type": "code",
   "execution_count": 12,
   "metadata": {},
   "outputs": [
    {
     "data": {
      "text/plain": [
       "array([[2., 0.],\n",
       "       [1., 1.]])"
      ]
     },
     "execution_count": 12,
     "metadata": {},
     "output_type": "execute_result"
    }
   ],
   "source": [
    "A = np.array([[4,2],[2,2]])\n",
    "np.linalg.cholesky(A)"
   ]
  },
  {
   "cell_type": "markdown",
   "metadata": {},
   "source": [
    "# 2.10\n",
    "## (1)\n",
    "$$ P = P_n\\cdots P_2P_1$$\n",
    "$$ P^{-1} = (P_n\\cdots P_2P_1)^{-1} = P_1^{-1} P_2^{-1}\\cdots  P_n^{-1}=P_1P_2\\cdots P_n=P_1P_2\\cdots P_n=P_1^TP_2^T\\cdots P_n^T=(P_n\\cdots P_2P_1)^{T}=P^T$$\n",
    "## (2)\n",
    "$$ P A= P(M_{n-1} P_{n-1} \\cdots M_{1} P_{1})^{-1}U=P(P_1M_1^{-1}P_2\\cdots P_nM_n^{-1})U$$\n",
    "即证明\n",
    "$ P(P_1M_1^{-1}P_2\\cdots P_nM_n^{-1})$为下三角矩阵。\n",
    "$$\n",
    "    \\begin{aligned}\n",
    "        P(P_1M_1^{-1}P_2\\cdots P_nM_n^{-1}) & =P_n\\cdots P_2P_1 P_1M_1^{-1}P_2\\cdots P_nM_n^{-1},                               \\\\\n",
    "               & =P_n\\cdots P_2M_1^{-1}P_2\\cdots P_nM_n^{-1}              \\\\\n",
    "                   & =P_n\\cdots P_2(I+m_1e_1)P_2\\cdots P_nM_n^{-1} ,\n",
    "    \\end{aligned}\n",
    "$$\n",
    "由于$P_2(I+m_1e_1)P_2=I+m_1'e_1$(由于$P_2$只对第二行以及以后的行做变换,$m_1'$即为对应两个元素交换所得)，考虑$(I+m_1'e_1)(I+m_2e_2)=I+\\sum_{i=1}^2m_ie_i$,其也为下三角。\n",
    "\n",
    "长此以往，可得$P(P_1M_1^{-1}P_2\\cdots P_nM_n^{-1})$也为下三角矩阵。"
   ]
  },
  {
   "cell_type": "markdown",
   "metadata": {},
   "source": [
    "# 2.31\n",
    "- $\\|x\\|_A=(x^TAx)^{\\frac{1}{2}}=(x^TL L^Tx)=(y^Ty)=\\sum_i y_i^2>=0$ (A positive defined), And $\\|x\\|_A=0$ if and only if $y = x = 0$\n",
    "- $\\|\\alpha x\\|_A=(\\alpha^2 x^TAx)^{\\frac{1}{2}}=\\alpha (x^TAx)^{\\frac{1}{2}} = \\alpha \\|x\\|_A$\n",
    "- $\\|x+y\\|_A = $"
   ]
  },
  {
   "cell_type": "code",
   "execution_count": 13,
   "metadata": {},
   "outputs": [],
   "source": [
    "def pivot_matrix(M,j):\n",
    "\n",
    "    m = M.shape[0]\n",
    "                                                            \n",
    "    id_mat = np.eye(m)                         \n",
    "    row = max(range(j, m), key=lambda i: abs(M[i][j]))\n",
    "    # print(row)\n",
    "    if j != row:                                                                          \n",
    "        id_mat[[j,row],:]= id_mat[[row,j],:]\n",
    "    return id_mat, row\n",
    "    \n",
    "def LU_Decomposition(A,pivot = False):\n",
    "    N = A.shape[0]\n",
    "    A_copy = A.copy()\n",
    "\n",
    "    L = np.eye(N)\n",
    "    U = np.zeros((N,N))\n",
    "    P = np.eye(N)\n",
    "    for i in range(N):\n",
    "        if pivot:\n",
    "            tmp_P,row = pivot_matrix(A_copy,i)\n",
    "            P = tmp_P@P\n",
    "            A_copy = tmp_P@A_copy\n",
    "            L[[i,row],i-1] = L[[row,i],i-1]\n",
    "        L[i:,i] = A_copy[i:,i]/A_copy[i,i]\n",
    "        # print(i,A[i,i])\n",
    "        U[i,i:] = A_copy[i,i:]\n",
    "        A_copy[i:,i:] = A_copy[i:,i:] - L[i:,i][:,None]@U[i,i:][None,:]\n",
    "        # print(A,L[i:,i].reshape([-1,1]).shape,U[i,i:].shape)\n",
    "    if pivot:\n",
    "        return P,L,U\n",
    "    return L,U\n"
   ]
  },
  {
   "cell_type": "code",
   "execution_count": 14,
   "metadata": {},
   "outputs": [
    {
     "name": "stdout",
     "output_type": "stream",
     "text": [
      "[[ 1.  0.  0.]\n",
      " [ 1.  1.  0.]\n",
      " [-2.  3.  1.]] [[ 1.  1. -1.]\n",
      " [ 0.  1. -1.]\n",
      " [ 0.  0.  2.]]\n"
     ]
    }
   ],
   "source": [
    "A= np.array([[1,1,-1], [1,2,-2.],[-2,1,1]])\n",
    "L,U = LU_Decomposition(A)\n",
    "print(L,U)"
   ]
  },
  {
   "cell_type": "code",
   "execution_count": 15,
   "metadata": {},
   "outputs": [
    {
     "data": {
      "text/plain": [
       "(array([[1., 0., 0.],\n",
       "        [0., 0., 1.],\n",
       "        [0., 1., 0.]]),\n",
       " 2)"
      ]
     },
     "execution_count": 15,
     "metadata": {},
     "output_type": "execute_result"
    }
   ],
   "source": [
    "A_1= np.array([[1,1,-1], [1,2,-2.],[-2,3,1]])\n",
    "pivot_matrix(A_1,1)"
   ]
  },
  {
   "cell_type": "code",
   "execution_count": 16,
   "metadata": {},
   "outputs": [],
   "source": [
    "a = np.array([[ 1. , 0.,  0.],\n",
    " [ 1. , 1.,  0.],\n",
    " [-2. , 3.,  1.]])\n",
    "b = np.array([[ 1. , 1. ,-1.],\n",
    " [ 0.,  1., -1.],\n",
    " [ 0. , 0.,  2.]])"
   ]
  },
  {
   "cell_type": "code",
   "execution_count": 17,
   "metadata": {},
   "outputs": [
    {
     "data": {
      "text/plain": [
       "array([[ True,  True,  True],\n",
       "       [ True,  True,  True],\n",
       "       [ True,  True,  True]])"
      ]
     },
     "execution_count": 17,
     "metadata": {},
     "output_type": "execute_result"
    }
   ],
   "source": [
    "a@b ==A"
   ]
  },
  {
   "cell_type": "code",
   "execution_count": 18,
   "metadata": {},
   "outputs": [
    {
     "data": {
      "text/plain": [
       "(array([[0., 1., 0., 0.],\n",
       "        [0., 0., 0., 1.],\n",
       "        [1., 0., 0., 0.],\n",
       "        [0., 0., 1., 0.]]),\n",
       " array([[ 1.        ,  0.        ,  0.        ,  0.        ],\n",
       "        [ 0.28571429,  1.        ,  0.        ,  0.        ],\n",
       "        [ 0.71428571,  0.12      ,  1.        ,  0.        ],\n",
       "        [ 0.71428571, -0.44      , -0.46153846,  1.        ]]),\n",
       " array([[ 7.        ,  5.        ,  6.        ,  6.        ],\n",
       "        [ 0.        ,  3.57142857,  6.28571429,  5.28571429],\n",
       "        [ 0.        ,  0.        , -1.04      ,  3.08      ],\n",
       "        [ 0.        ,  0.        ,  0.        ,  7.46153846]]))"
      ]
     },
     "execution_count": 18,
     "metadata": {},
     "output_type": "execute_result"
    }
   ],
   "source": [
    "A = np.array([[2, 5, 8, 7], [5, 2, 2, 8], [7, 5, 6, 6], [5, 4, 4, 8]])\n",
    "lu(A)"
   ]
  },
  {
   "cell_type": "code",
   "execution_count": 19,
   "metadata": {},
   "outputs": [
    {
     "data": {
      "text/plain": [
       "True"
      ]
     },
     "execution_count": 19,
     "metadata": {},
     "output_type": "execute_result"
    }
   ],
   "source": [
    "p,l,u=LU_Decomposition(A,pivot=True)\n",
    "np.allclose(A - p.T @ l @ u, np.zeros((4, 4)))"
   ]
  },
  {
   "cell_type": "code",
   "execution_count": 20,
   "metadata": {},
   "outputs": [
    {
     "data": {
      "text/plain": [
       "(array([[0., 0., 1., 0.],\n",
       "        [1., 0., 0., 0.],\n",
       "        [0., 0., 0., 1.],\n",
       "        [0., 1., 0., 0.]]),\n",
       " array([[ 1.        ,  0.        ,  0.        ,  0.        ],\n",
       "        [ 0.28571429,  1.        ,  0.        ,  0.        ],\n",
       "        [ 0.71428571,  0.12      ,  1.        ,  0.        ],\n",
       "        [ 0.71428571, -0.44      , -0.46153846,  1.        ]]),\n",
       " array([[ 7.        ,  5.        ,  6.        ,  6.        ],\n",
       "        [ 0.        ,  3.57142857,  6.28571429,  5.28571429],\n",
       "        [ 0.        ,  0.        , -1.04      ,  3.08      ],\n",
       "        [ 0.        ,  0.        ,  0.        ,  7.46153846]]))"
      ]
     },
     "execution_count": 20,
     "metadata": {},
     "output_type": "execute_result"
    }
   ],
   "source": [
    "LU_Decomposition(A,pivot=True)"
   ]
  },
  {
   "cell_type": "code",
   "execution_count": null,
   "metadata": {},
   "outputs": [],
   "source": []
  }
 ],
 "metadata": {
  "interpreter": {
   "hash": "c5aca946039d9aa65fad3c225560fb43eb8bb5dddc9636801a61d8026290804e"
  },
  "kernelspec": {
   "display_name": "Python 3.8.10 64-bit ('tensorflow': conda)",
   "name": "python3"
  },
  "language_info": {
   "codemirror_mode": {
    "name": "ipython",
    "version": 3
   },
   "file_extension": ".py",
   "mimetype": "text/x-python",
   "name": "python",
   "nbconvert_exporter": "python",
   "pygments_lexer": "ipython3",
   "version": "3.8.10"
  },
  "orig_nbformat": 4
 },
 "nbformat": 4,
 "nbformat_minor": 2
}
