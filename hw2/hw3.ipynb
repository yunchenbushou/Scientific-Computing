{
 "cells": [
  {
   "cell_type": "markdown",
   "metadata": {},
   "source": [
    "# T1\n",
    "Computer problem (in C or C++): Write the functions to achieve (1) Arnoldi iteration and Lanczos iteration; (2) QR iteration for Hessenburg matrix to find the eigenvalue decomposition. Test these algorithms for a few matrix."
   ]
  },
  {
   "cell_type": "markdown",
   "metadata": {},
   "source": [
    "## Arnoldi iteration"
   ]
  },
  {
   "cell_type": "code",
   "execution_count": 1,
   "metadata": {},
   "outputs": [],
   "source": [
    "import numpy as np\n",
    "import matplotlib.pyplot as plt\n",
    "from scipy.linalg import circulant,solve\n",
    "\n",
    "def arnoldi_iteration(A, b, n: int):\n",
    "    \"\"\"Computes a basis of the (n + 1)-Krylov subspace of A: the space\n",
    "    spanned by {b, Ab, ..., A^n b}.\n",
    "\n",
    "    Arguments\n",
    "      A: m × m array\n",
    "      b: initial vector (length m)\n",
    "      n: dimension of Krylov subspace, must be >= 1\n",
    "    \n",
    "    Returns\n",
    "      Q: m x (n + 1) array, the columns are an orthonormal basis of the\n",
    "        Krylov subspace.\n",
    "      h: (n + 1) x n array, A on basis Q. It is upper Hessenberg.  \n",
    "    \"\"\"\n",
    "    eps = 1e-12\n",
    "    h = np.zeros((n+1,n), dtype=np.complex)\n",
    "    Q = np.zeros((A.shape[0],n+1), dtype=np.complex)\n",
    "     # Normalize the input vector\n",
    "    Q[:,0] =b/np.linalg.norm(b,2)   # Use it as the first Krylov vector\n",
    "    for k in range(1,n+1):\n",
    "        v = np.dot(A,Q[:,k-1])  # Generate a new candidate vector\n",
    "        for j in range(k):  # Subtract the projections on previous vectors\n",
    "            h[j,k-1] = np.dot(Q[:,j].conj().T, v)\n",
    "            v = v - h[j,k-1] * Q[:,j]\n",
    "        h[k,k-1] = np.linalg.norm(v,2)\n",
    "        if h[k,k-1] > eps:  # Add the produced vector to the list, unless\n",
    "            Q[:,k] = v/h[k,k-1]\n",
    "        else:  # If that happens, stop iterating.\n",
    "            return Q, h\n",
    "    return Q, h"
   ]
  },
  {
   "cell_type": "markdown",
   "metadata": {},
   "source": [
    "## Lanczos iteration"
   ]
  },
  {
   "cell_type": "code",
   "execution_count": 2,
   "metadata": {},
   "outputs": [],
   "source": [
    "def lanczos_iteration(A, b, n: int):\n",
    "    eps = 1e-12\n",
    "    beta = 0\n",
    "    Q = np.zeros((A.shape[0],n+2), dtype=np.complex)\n",
    "    h = np.zeros((n+1,n), dtype=np.complex)\n",
    "     # Normalize the input vector\n",
    "    Q[:,1] =b/np.linalg.norm(b,2)   # Use it as the first Krylov vector\n",
    "    for k in range(2,n+2):\n",
    "        v = np.dot(A,Q[:,k-1])  # Generate a new candidate vector\n",
    "        alpha = Q[:,k-1].conj().T@v\n",
    "        v = v - beta*Q[:,k-2]-alpha*Q[:,k-1]\n",
    "        bata = np.linalg.norm(v,2)\n",
    "        h[k-2,k-2] = alpha\n",
    "        h[k-1,k-2] = beta\n",
    "        if k < n+1:\n",
    "            h[k-2,k-3]=beta\n",
    "        if bata > eps:  # Add the produced vector to the list, unless\n",
    "            Q[:,k] = v/bata\n",
    "        else:  # If that happens, stop iterating.\n",
    "            return Q[:,1:],h\n",
    "    return Q[:,1:],h"
   ]
  },
  {
   "cell_type": "code",
   "execution_count": 3,
   "metadata": {},
   "outputs": [
    {
     "name": "stdout",
     "output_type": "stream",
     "text": [
      "True\n"
     ]
    },
    {
     "name": "stderr",
     "output_type": "stream",
     "text": [
      "<ipython-input-1-90a6c109bec1>:20: DeprecationWarning: `np.complex` is a deprecated alias for the builtin `complex`. To silence this warning, use `complex` by itself. Doing this will not modify any behavior and is safe. If you specifically wanted the numpy scalar type, use `np.complex128` here.\n",
      "Deprecated in NumPy 1.20; for more details and guidance: https://numpy.org/devdocs/release/1.20.0-notes.html#deprecations\n",
      "  h = np.zeros((n+1,n), dtype=np.complex)\n",
      "<ipython-input-1-90a6c109bec1>:21: DeprecationWarning: `np.complex` is a deprecated alias for the builtin `complex`. To silence this warning, use `complex` by itself. Doing this will not modify any behavior and is safe. If you specifically wanted the numpy scalar type, use `np.complex128` here.\n",
      "Deprecated in NumPy 1.20; for more details and guidance: https://numpy.org/devdocs/release/1.20.0-notes.html#deprecations\n",
      "  Q = np.zeros((A.shape[0],n+1), dtype=np.complex)\n"
     ]
    },
    {
     "data": {
      "image/png": "[encoded data removed]",
      "text/plain": [
       "<Figure size 640x480 with 2 Axes>"
      ]
     },
     "metadata": {},
     "output_type": "display_data"
    }
   ],
   "source": [
    "N = 2**4\n",
    "I = np.eye(N)\n",
    "k = np.fft.fftfreq(N, 1.0 / N) + 0.5\n",
    "alpha = np.linspace(0.1, 1.0, N)*2e2\n",
    "c = np.fft.fft(alpha) / N\n",
    "C = circulant(c)\n",
    "A = np.einsum(\"i, ij, j->ij\", k, C, k)\n",
    "\n",
    "# Show that A is Hermitian\n",
    "print(np.allclose(A, A.conj().T))\n",
    "\n",
    "# Arbitrary (random) initial vector\n",
    "np.random.seed(0)\n",
    "v = np.random.rand(N)\n",
    "# Perform Arnoldi iteration with complex A\n",
    "_, h = arnoldi_iteration(A, v, N)\n",
    "# Perform Arnoldi iteration with real A\n",
    "_, h2 = arnoldi_iteration(np.real(A), v, N)\n",
    "\n",
    "# Plot results\n",
    "plt.subplot(121)\n",
    "plt.imshow(np.abs(h))\n",
    "plt.title(\"Complex A\")\n",
    "plt.subplot(122)\n",
    "plt.imshow(np.abs(h2))\n",
    "plt.title(\"Real A\")\n",
    "plt.tight_layout()\n",
    "plt.show()"
   ]
  },
  {
   "cell_type": "code",
   "execution_count": 4,
   "metadata": {},
   "outputs": [
    {
     "name": "stderr",
     "output_type": "stream",
     "text": [
      "<ipython-input-2-6343734e5b98>:4: DeprecationWarning: `np.complex` is a deprecated alias for the builtin `complex`. To silence this warning, use `complex` by itself. Doing this will not modify any behavior and is safe. If you specifically wanted the numpy scalar type, use `np.complex128` here.\n",
      "Deprecated in NumPy 1.20; for more details and guidance: https://numpy.org/devdocs/release/1.20.0-notes.html#deprecations\n",
      "  Q = np.zeros((A.shape[0],n+2), dtype=np.complex)\n",
      "<ipython-input-2-6343734e5b98>:5: DeprecationWarning: `np.complex` is a deprecated alias for the builtin `complex`. To silence this warning, use `complex` by itself. Doing this will not modify any behavior and is safe. If you specifically wanted the numpy scalar type, use `np.complex128` here.\n",
      "Deprecated in NumPy 1.20; for more details and guidance: https://numpy.org/devdocs/release/1.20.0-notes.html#deprecations\n",
      "  h = np.zeros((n+1,n), dtype=np.complex)\n"
     ]
    },
    {
     "data": {
      "image/png": "[encoded data removed]",
      "text/plain": [
       "<Figure size 640x480 with 2 Axes>"
      ]
     },
     "metadata": {},
     "output_type": "display_data"
    }
   ],
   "source": [
    "_, h = lanczos_iteration(A, v, N)\n",
    "# Perform Arnoldi iteration with real A\n",
    "_, h2 = lanczos_iteration(np.real(A), v, N)\n",
    "\n",
    "# Plot results\n",
    "plt.subplot(121)\n",
    "plt.imshow(np.abs(h))\n",
    "plt.title(\"Complex A\")\n",
    "plt.subplot(122)\n",
    "plt.imshow(np.abs(h2))\n",
    "plt.title(\"Real A\")\n",
    "plt.tight_layout()\n",
    "plt.show()"
   ]
  },
  {
   "cell_type": "markdown",
   "metadata": {},
   "source": [
    "## QR iteration for Hessenburg matrix to find the eigenvalue decomposition."
   ]
  },
  {
   "cell_type": "code",
   "execution_count": 5,
   "metadata": {},
   "outputs": [],
   "source": [
    "def Q_i(Q_min, i, j, k):\n",
    "    if i < k or j < k:\n",
    "        return float(i == j)\n",
    "    else:\n",
    "        return Q_min[i-k][j-k]\n",
    "\n",
    "def QR_householder(A):\n",
    "    n = A.shape[0]\n",
    "\n",
    "    # Set R equal to A, and create Q as a zero matrix of the same size\n",
    "    R = A.copy()\n",
    "    Q = np.zeros((n,n))\n",
    "\n",
    "    # The Householder procedure\n",
    "    for k in range(n-1):\n",
    "        I = np.eye(n)\n",
    "        x = R[k:,k]\n",
    "        e = I[k:,k]\n",
    "        alpha = np.sign(x[0]) * np.linalg.norm(x)\n",
    "\n",
    "        # Using anonymous functions, we create u and v\n",
    "        u = np.array(list(map(lambda p,q: p + alpha * q, x, e)))\n",
    "        print(u)\n",
    "        norm_u = np.linalg.norm(u)\n",
    "        v = np.array(list(map(lambda p: p/norm_u, u)))\n",
    "\n",
    "        # Create the Q minor matrix\n",
    "        Q_min = np.array([ [float(i==j) - 2.0 * v[i] * v[j] for i in range(n-k)] for j in range(n-k) ])\n",
    "\n",
    "        # \"Pad out\" the Q minor matrix with elements from the identity\n",
    "        Q_t = np.array([[ Q_i(Q_min,i,j,k) for i in range(n)] for j in range(n)])\n",
    "\n",
    "        if k == 0:\n",
    "            Q = Q_t\n",
    "            R = Q_t@A\n",
    "        else:\n",
    "            Q = Q_t@Q\n",
    "            R = Q_t@R\n",
    "\n",
    "    # Since Q is defined as the product of transposes of Q_t,\n",
    "    # we need to take the transpose upon returning it\n",
    "    return Q.T, R"
   ]
  },
  {
   "cell_type": "markdown",
   "metadata": {},
   "source": [
    "# T2 \n",
    "Computer problem (in C or C++): Write the functions to achieve Newton’s method and Broyden’s method. Test these methods for a few equation systems."
   ]
  },
  {
   "cell_type": "code",
   "execution_count": 6,
   "metadata": {},
   "outputs": [],
   "source": [
    "from scipy import misc\n",
    "from scipy.optimize import newton\n",
    "\n",
    "# Newton's Method\n",
    "def NewtonsMethod(f, x, tolerance=0.000001):\n",
    "    while True:\n",
    "        x1 = x - f(x) / misc.derivative(f, x) \n",
    "        t = abs(x1 - x)\n",
    "        if t < tolerance:\n",
    "            break\n",
    "        x = x1\n",
    "    return x\n",
    "\n",
    "# Broyden’s method\n",
    "def broyden(x, y, f_equations, J_equations, tol=10e-10, maxIters=50):\n",
    "    steps_taken = 0\n",
    " \n",
    "    f = f_equations(x,y)\n",
    "    J = J_equations(x,y)\n",
    " \n",
    "    while np.linalg.norm(f,2) > tol and steps_taken < maxIters:\n",
    " \n",
    "        s = solve(J,-1*f)\n",
    " \n",
    "        x = x + s[0]\n",
    "        y = y + s[1]\n",
    "        newf = f_equations(x,y)\n",
    "        z = newf - f\n",
    " \n",
    "        J = J + (np.outer ((z - np.dot(J,s)),s)) / (np.dot(s,s))\n",
    " \n",
    "        f = newf\n",
    "        steps_taken += 1\n",
    " \n",
    "    return steps_taken, x, y  "
   ]
  },
  {
   "cell_type": "code",
   "execution_count": 7,
   "metadata": {},
   "outputs": [],
   "source": [
    "def f(x):\n",
    "    return (1.0/4.0)*x**3+(3.0/4.0)*x**2-(3.0/2.0)*x-2\n",
    "\n",
    "x = 4\n",
    "\n",
    "x_0 = NewtonsMethod(f, x)\n",
    "x_1 = newton(f, x, fprime=None, args=(), tol=1.48e-08, maxiter=50, fprime2=None)"
   ]
  },
  {
   "cell_type": "code",
   "execution_count": 8,
   "metadata": {},
   "outputs": [
    {
     "data": {
      "text/plain": [
       "(2.0000002745869883, 2.000000000000008)"
      ]
     },
     "execution_count": 8,
     "metadata": {},
     "output_type": "execute_result"
    }
   ],
   "source": [
    "x_0,x_1"
   ]
  },
  {
   "cell_type": "code",
   "execution_count": 9,
   "metadata": {},
   "outputs": [
    {
     "name": "stdout",
     "output_type": "stream",
     "text": [
      "iterations:  8\n",
      "x and y:  8.159067075518965e-17 0.9999999999999999\n"
     ]
    }
   ],
   "source": [
    "tol = 10.0** -15\n",
    "maxIters = 50\n",
    "x0 = 1\n",
    "y0 = 2\n",
    " \n",
    "def fs(x,y):\n",
    "    return np.array([x + 2*y - 2, x**2 + 4*y**2 - 4])\n",
    " \n",
    "def Js(x,y):\n",
    "    return np.array([[1,2],\n",
    "             [2, 16]])\n",
    " \n",
    "n, x, y = broyden(x0, y0, fs, Js, tol, maxIters=50 )\n",
    "print(\"iterations: \", n)\n",
    "print(\"x and y: \", x, y)"
   ]
  }
 ],
 "metadata": {
  "interpreter": {
   "hash": "cbacef0d045109993dbdc21cb4dc2e313004da24f43ba26165f16f89eaf9429b"
  },
  "kernelspec": {
   "display_name": "Python 3.8.10 64-bit ('tensorflow': conda)",
   "language": "python",
   "name": "python3"
  },
  "language_info": {
   "codemirror_mode": {
    "name": "ipython",
    "version": 3
   },
   "file_extension": ".py",
   "mimetype": "text/x-python",
   "name": "python",
   "nbconvert_exporter": "python",
   "pygments_lexer": "ipython3",
   "version": "3.8.10"
  },
  "orig_nbformat": 4
 },
 "nbformat": 4,
 "nbformat_minor": 2
}
